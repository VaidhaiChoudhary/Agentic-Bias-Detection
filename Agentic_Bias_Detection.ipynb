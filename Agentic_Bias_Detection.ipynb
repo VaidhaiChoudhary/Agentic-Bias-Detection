{
  "nbformat": 4,
  "nbformat_minor": 0,
  "metadata": {
    "colab": {
      "provenance": []
    },
    "kernelspec": {
      "name": "python3",
      "display_name": "Python 3"
    },
    "language_info": {
      "name": "python"
    }
  },
  "cells": [
    {
      "cell_type": "markdown",
      "source": [
        "### **College Admissions Agent with Bias Critic**"
      ],
      "metadata": {
        "id": "9RThT3CRiYuO"
      }
    },
    {
      "cell_type": "markdown",
      "source": [
        "This notebook demonstrates an AI admissions **advisor agent** that provides balanced, nuanced answers to the question:\n",
        "\n",
        "\"Who should get preference in college admissions?\"\n",
        "\n",
        "It also includes a **Bias Critic** that reviews the agent's response to detect any potential bias, especially regional or social biases."
      ],
      "metadata": {
        "id": "SZMC6d7ZpEH_"
      }
    },
    {
      "cell_type": "markdown",
      "source": [
        "**How the Agent Works**\n",
        "\n",
        "The Agent considers multiple perspectives about college admissions:\n",
        "\n",
        "* Legacy and donor preferences\n",
        "\n",
        "* Underrepresented groups and affirmative action\n",
        "\n",
        "* Merit-based admissions\n",
        "\n",
        "* Holistic review combining academic achievement, diversity, and personal traits\n",
        "\n",
        "It provides arguments and counterarguments to offer a balanced and fair viewpoint."
      ],
      "metadata": {
        "id": "m68g66ELpUxQ"
      }
    },
    {
      "cell_type": "markdown",
      "source": [
        "**Role of the Bias Critic**\n",
        "\n",
        "- The Bias Critic evaluates the agent’s response to check for any bias or unfair emphasis on certain groups or regions.\n",
        "\n",
        "- It ensures that the agent's statement is neutral, fair, and inclusive.\n",
        "\n",
        "- It also provides suggestions to improve the statement’s clarity and fairness."
      ],
      "metadata": {
        "id": "BaNB7RQCpu-f"
      }
    },
    {
      "cell_type": "code",
      "source": [
        "!pip install --upgrade openai\n"
      ],
      "metadata": {
        "colab": {
          "base_uri": "https://localhost:8080/"
        },
        "id": "JHv_6NWYmLJ6",
        "outputId": "3e7834bc-8ef4-4b0e-f0d2-db9bcb43d94c"
      },
      "execution_count": null,
      "outputs": [
        {
          "output_type": "stream",
          "name": "stdout",
          "text": [
            "Requirement already satisfied: openai in /usr/local/lib/python3.11/dist-packages (1.82.1)\n",
            "Collecting openai\n",
            "  Downloading openai-1.84.0-py3-none-any.whl.metadata (25 kB)\n",
            "Requirement already satisfied: anyio<5,>=3.5.0 in /usr/local/lib/python3.11/dist-packages (from openai) (4.9.0)\n",
            "Requirement already satisfied: distro<2,>=1.7.0 in /usr/local/lib/python3.11/dist-packages (from openai) (1.9.0)\n",
            "Requirement already satisfied: httpx<1,>=0.23.0 in /usr/local/lib/python3.11/dist-packages (from openai) (0.28.1)\n",
            "Requirement already satisfied: jiter<1,>=0.4.0 in /usr/local/lib/python3.11/dist-packages (from openai) (0.10.0)\n",
            "Requirement already satisfied: pydantic<3,>=1.9.0 in /usr/local/lib/python3.11/dist-packages (from openai) (2.11.5)\n",
            "Requirement already satisfied: sniffio in /usr/local/lib/python3.11/dist-packages (from openai) (1.3.1)\n",
            "Requirement already satisfied: tqdm>4 in /usr/local/lib/python3.11/dist-packages (from openai) (4.67.1)\n",
            "Requirement already satisfied: typing-extensions<5,>=4.11 in /usr/local/lib/python3.11/dist-packages (from openai) (4.13.2)\n",
            "Requirement already satisfied: idna>=2.8 in /usr/local/lib/python3.11/dist-packages (from anyio<5,>=3.5.0->openai) (3.10)\n",
            "Requirement already satisfied: certifi in /usr/local/lib/python3.11/dist-packages (from httpx<1,>=0.23.0->openai) (2025.4.26)\n",
            "Requirement already satisfied: httpcore==1.* in /usr/local/lib/python3.11/dist-packages (from httpx<1,>=0.23.0->openai) (1.0.9)\n",
            "Requirement already satisfied: h11>=0.16 in /usr/local/lib/python3.11/dist-packages (from httpcore==1.*->httpx<1,>=0.23.0->openai) (0.16.0)\n",
            "Requirement already satisfied: annotated-types>=0.6.0 in /usr/local/lib/python3.11/dist-packages (from pydantic<3,>=1.9.0->openai) (0.7.0)\n",
            "Requirement already satisfied: pydantic-core==2.33.2 in /usr/local/lib/python3.11/dist-packages (from pydantic<3,>=1.9.0->openai) (2.33.2)\n",
            "Requirement already satisfied: typing-inspection>=0.4.0 in /usr/local/lib/python3.11/dist-packages (from pydantic<3,>=1.9.0->openai) (0.4.1)\n",
            "Downloading openai-1.84.0-py3-none-any.whl (725 kB)\n",
            "\u001b[2K   \u001b[90m━━━━━━━━━━━━━━━━━━━━━━━━━━━━━━━━━━━━━━━━\u001b[0m \u001b[32m725.5/725.5 kB\u001b[0m \u001b[31m18.5 MB/s\u001b[0m eta \u001b[36m0:00:00\u001b[0m\n",
            "\u001b[?25hInstalling collected packages: openai\n",
            "  Attempting uninstall: openai\n",
            "    Found existing installation: openai 1.82.1\n",
            "    Uninstalling openai-1.82.1:\n",
            "      Successfully uninstalled openai-1.82.1\n",
            "Successfully installed openai-1.84.0\n"
          ]
        }
      ]
    },
    {
      "cell_type": "markdown",
      "source": [
        "This code demonstrates how to use two AI agents working together for college admissions:\n",
        "\n",
        "1. **Admissions Advisor Agent** — generates a thoughtful, balanced response to a question about who should get preference in college admissions.\n",
        "\n",
        "2. **Bias Critic Agent** — reviews the advisor’s response to detect any regional or social bias and provides feedback to ensure fairness.\n",
        "\n",
        "We use the Groq-powered OpenAI API client to run these agents with the `llama3-70b-8192` model."
      ],
      "metadata": {
        "id": "FKPnjkznqNde"
      }
    },
    {
      "cell_type": "code",
      "source": [
        "from openai import OpenAI\n",
        "\n",
        "# OpenAI client - Groq\n",
        "client = OpenAI(\n",
        "    api_key=\"YOUR API KEY\",\n",
        "    base_url=\"https://api.groq.com/openai/v1\"\n",
        ")\n",
        "\n",
        "# Agent 1: Generates a response\n",
        "def agentic_generator(prompt):\n",
        "    response = client.chat.completions.create(\n",
        "        model=\"llama3-70b-8192\",\n",
        "        messages=[\n",
        "            {\"role\": \"system\", \"content\": \"You are an admissions advisor.\"},\n",
        "            {\"role\": \"user\", \"content\": prompt}\n",
        "        ]\n",
        "    )\n",
        "    return response.choices[0].message.content\n",
        "\n",
        "# Agent 2: Bias detection agent\n",
        "def agentic_bias_critic(agent_response):\n",
        "    critique_prompt = (\n",
        "        f\"Your goal is to identify any regional bias in the following statement:\\n\\n\"\n",
        "        f\"'{agent_response}'\\n\\n\"\n",
        "        \"Explain whether the statement contains bias and why.\"\n",
        "    )\n",
        "    response = client.chat.completions.create(\n",
        "        model=\"llama3-70b-8192\",\n",
        "        messages=[\n",
        "            {\"role\": \"system\", \"content\": \"You are a fairness and bias detection expert.\"},\n",
        "            {\"role\": \"user\", \"content\": critique_prompt}\n",
        "        ]\n",
        "    )\n",
        "    return response.choices[0].message.content\n",
        "\n",
        "#\n",
        "prompt = \"Who should get preference in college admissions?\"\n",
        "agent_response = agentic_generator(prompt)\n",
        "bias_feedback = agentic_bias_critic(agent_response)\n",
        "\n",
        "print(\"User Prompt:\", prompt)\n",
        "print(\"\\nAgent Response:\", agent_response)\n",
        "print(\"\\nBias Critic's Verdict:\\n\", bias_feedback)\n"
      ],
      "metadata": {
        "colab": {
          "base_uri": "https://localhost:8080/"
        },
        "id": "0boPA3kAmCYX",
        "outputId": "fcd2c161-4162-48ee-a739-9642d13fb367"
      },
      "execution_count": null,
      "outputs": [
        {
          "output_type": "stream",
          "name": "stdout",
          "text": [
            "User Prompt: Who should get preference in college admissions?\n",
            "\n",
            "Agent Response: As an admissions advisor, I'll provide a nuanced answer. The ideal approach to college admissions should balance multiple factors to create a diverse, talented, and well-rounded student body. Here's a breakdown of the considerations:\n",
            "\n",
            "**Academic Achievement:** Students who have demonstrated academic rigor, achievement, and potential should receive consideration. This includes factors like GPA, standardized test scores, Advanced Placement (AP) or International Baccalaureate (IB) courses, and academic awards or recognitions.\n",
            "\n",
            "**Diversity and Inclusion:** Institutions should strive to create a diverse student body that reflects the broader society. This encompasses considerations like race, ethnicity, nationality, gender, socioeconomic status, first-generation college students, and LGBTQ+ identity.\n",
            "\n",
            "**Talent and Passion:** Students who demonstrate talent or passion in specific areas, such as the arts, athletics, community service, or leadership, should receive consideration. These qualities can enrich the campus community and contribute to a well-rounded student body.\n",
            "\n",
            "**Personal Characteristics:** Traits like resilience, grit, and overcoming adversity should be taken into account. Students often bring unique perspectives and strengths that can benefit the institution.\n",
            "\n",
            "**Holistic Review:** Admissions committees should consider the entirety of a student's application, essays, letters of recommendation, and interviews (when applicable). A holistic review helps to understand a student's strengths, weaknesses, and potential for success.\n",
            "\n",
            "**Legacy Status:** While legacy status may be a consideration in some cases, it should not be the primary determining factor. Institutions should prioritize diversity and merit-based admissions.\n",
            "\n",
            "**Geographic Diversity:** Colleges should aim to create a student body with representation from various regions, states, or countries. This helps to promote cultural exchange, diversity of perspectives, and a more comprehensive educational experience.\n",
            "\n",
            "In summary, a balanced approach to college admissions should consider a range of factors, including academic achievement, diversity, talent, personal characteristics, and holistic review. No single factor should receive excessive preference, as this can lead to an imbalanced student body. By considering multiple perspectives, they can build a vibrant, diverse, and talented community of scholars.\n",
            "\n",
            "Bias Critic's Verdict:\n",
            " After analyzing the statement, I did not detect any significant regional bias. Here's why:\n",
            "\n",
            "1. **Geographic diversity is mentioned**: The statement explicitly mentions the importance of creating a student body with representation from various regions, states, or countries. This suggests that geographic diversity is valued, and institutions should strive to have a diverse student body in terms of regional representation.\n",
            "2. **No regional prioritization**: The statement does not prioritize one region over another. There is no mention of specific regions, states, or countries being more desirable or favored over others.\n",
            "3. **Balanced approach**: The overall tone of the statement is focused on promoting a holistic, balanced approach that considers multiple factors, including academic achievement, diversity, talent, personal characteristics, and geographic diversity. This indicates that no single factor, including geographic region, should receive preferential treatment.\n",
            "\n",
            "However, I do want to highlight some potential areas for improvement:\n",
            "\n",
            "1. **Clarify \"various regions, states, or countries\"**: The statement could benefit from a clearer definition of what constitutes\" various regions, states, or countries.\" This might help to ensure that institutions prioritize diversity in a more systematic and equitable manner.\n",
            "2. **Ensure consistent application**: To avoid unintentional bias, it's essential to ensure that their admission processes consistently apply the stated principles, including geographic diversity, to all applicants.\n",
            "\n",
            "Overall, I believe the statement provides a fair and balanced approach to college admissions, and I did not detect significant regional bias.\n"
          ]
        }
      ]
    },
    {
      "cell_type": "markdown",
      "source": [
        "**Understanding the Output**\n",
        "\n",
        "- **User Prompt:** The question we asked the admissions advisor.\n",
        "\n",
        "- **Agent Response:** The detailed, balanced answer the advisor generated. It includes multiple perspectives and counterarguments about admissions preferences.\n",
        "\n",
        "- **Bias Critic's Verdict:** The fairness expert's review of the advisor’s response. It highlights strengths and suggests minor improvements to avoid potential bias.\n",
        "\n",
        "Together, these agents simulate a fair and transparent decision-making discussion, demonstrating how AI can support balanced reasoning with bias awareness.\n"
      ],
      "metadata": {
        "id": "97nhms09qTlw"
      }
    },
    {
      "cell_type": "markdown",
      "source": [],
      "metadata": {
        "id": "jKD-0MwDqppU"
      }
    },
    {
      "cell_type": "markdown",
      "source": [
        "#### **Iterative AI Admissions Advisor with Bias Feedback Loop**\n",
        "\n",
        "This code implements a two-agent system that interacts iteratively:\n",
        "\n",
        "1. **Admissions Advisor Agent** generates a response to the question about college admissions preference.\n",
        "\n",
        "2. **Bias Critic Agent** reviews the advisor’s response for any regional or other bias, providing feedback.\n",
        "\n",
        "The advisor then revises its answer considering the feedback, improving fairness and balance.\n",
        "\n",
        "This loop runs up to two iterations or stops early if no bias is detected.\n",
        "\n",
        "We use the Groq-powered OpenAI client with the `llama3-70b-8192` model.\n"
      ],
      "metadata": {
        "id": "HuJv0i6_qqTi"
      }
    },
    {
      "cell_type": "code",
      "source": [
        "from openai import OpenAI\n",
        "\n",
        "client = OpenAI(\n",
        "    api_key=\"YOUR API KEY\",\n",
        "    base_url=\"https://api.groq.com/openai/v1\"\n",
        ")\n",
        "\n",
        "def generate_answer(prompt, context=\"\"):\n",
        "    messages = [\n",
        "        {\"role\": \"system\", \"content\": \"You are an admissions advisor providing a balanced response.\"},\n",
        "    ]\n",
        "    if context:\n",
        "        messages.append({\"role\": \"system\", \"content\": f\"Please revise your answer considering the feedback: {context}\"})\n",
        "    messages.append({\"role\": \"user\", \"content\": prompt})\n",
        "\n",
        "    response = client.chat.completions.create(\n",
        "        model=\"llama3-70b-8192\",\n",
        "        messages=messages\n",
        "    )\n",
        "    return response.choices[0].message.content\n",
        "\n",
        "def critique_answer(answer):\n",
        "    prompt = (\n",
        "        f\"Review the following admissions advisor's statement for regional or other bias:\\n\\n\"\n",
        "        f\"\\\"{answer}\\\"\\n\\n\"\n",
        "        \"If you find bias, explain it and suggest how to improve it. If no bias, say so.\"\n",
        "    )\n",
        "\n",
        "    response = client.chat.completions.create(\n",
        "        model=\"llama3-70b-8192\",\n",
        "        messages=[\n",
        "            {\"role\": \"system\", \"content\": \"You are a fairness and bias detection expert.\"},\n",
        "            {\"role\": \"user\", \"content\": prompt}\n",
        "        ]\n",
        "    )\n",
        "    return response.choices[0].message.content\n",
        "\n",
        "# Agentic loop\n",
        "prompt = \"Who should get preference in college admissions?\"\n",
        "answer = \"\"\n",
        "feedback = \"\"\n",
        "\n",
        "for i in range(2):\n",
        "    answer = generate_answer(prompt, context=feedback)\n",
        "    print(f\"\\nIteration {i+1} - Agent Response:\\n{answer}\")\n",
        "    feedback = critique_answer(answer)\n",
        "    print(f\"\\nIteration {i+1} - Bias Critic Feedback:\\n{feedback}\")\n",
        "\n",
        "    if \"no bias\" in feedback.lower():\n",
        "        print(\"\\nNo bias detected. Stopping iterations.\")\n",
        "        break\n"
      ],
      "metadata": {
        "colab": {
          "base_uri": "https://localhost:8080/"
        },
        "id": "KNRP6L-xmsoT",
        "outputId": "8ac68702-a793-42d7-9499-834dac798c34"
      },
      "execution_count": null,
      "outputs": [
        {
          "output_type": "stream",
          "name": "stdout",
          "text": [
            "\n",
            "Iteration 1 - Agent Response:\n",
            "The question of who should get preference in college admissions is a complex and debated topic. As an admissions advisor, I'll provide a balanced response that considers various perspectives.\n",
            "\n",
            "**Legacies and Donors:**\n",
            "Some argue that legacy students (children of alumni) and students from wealthy donor families should receive preference, as they often have a strong commitment to the institution and may have a higher likelihood of contributing to the college's reputation, resources, and community. These students may also have a deeper understanding of the college culture and values.\n",
            "\n",
            "**Counterargument:**\n",
            "However, giving preference to legacies and donors can perpetuate social and economic inequalities. It may unfairly advantage those who already have privilege, rather than providing equal opportunities to deserving students from diverse backgrounds. Additionally, admitting students primarily based on family connections rather than academic merit or potential may compromise the academic integrity of the institution.\n",
            "\n",
            "**Underrepresented Groups:**\n",
            "Others argue that students from underprivileged backgrounds, such as racial minorities, first-generation college students, or those from low-income families, should receive preference in the admissions process. This approach aims to promote diversity, inclusivity, and equity, as well as redress historical injustices.\n",
            "\n",
            "**Counterargument:**\n",
            "While there is value in promoting diversity and inclusivity, some argue that using racial, socioeconomic, or other demographic criteria as a primary factor in admission decisions may lead to unintended consequences, such as stereotyping or stigmatizing certain groups. It is essential to consider the individual merits and potential of each student, rather than relying solely on group characteristics.\n",
            "\n",
            "**Merit-Based Admissions:**\n",
            "Some advocate for a merit-based admissions process, where students are evaluated primarily on their academic achievements, talents, and potential for success, regardless of background or demographics.\n",
            "\n",
            "**Counterargument:**\n",
            "A purely merit-based approach may overlook the complexities and nuances of each student's experience. It may also disadvantage students from underresourced schools or those who lack access to resources, guidance, or opportunities, which can hinder their ability to demonstrate their full potential.\n",
            "\n",
            "**Holistic Admissions:**\n",
            "A balanced approach, which combines academic achievement, individual potential, and contributions to the college community, can provide a more comprehensive and inclusive admissions process. This approach considers a range of factors, including:\n",
            "\n",
            "* Academic performance and achievements\n",
            "* Extracurricular activities, volunteer work, and leadership experiences\n",
            "* Letters of recommendation from teachers, mentors, or community leaders\n",
            "* Essays, portfolios, or other creative works that showcase a student's character, goals, and aspirations\n",
            "* Contributions to diversity, inclusivity, and equity:**\n",
            "A holistic approach can help ensure that the admissions process values individual merit, promotes diversity and inclusivity, and addresses historical inequities.\n",
            "\n",
            "Ultimately, a balanced and nuanced approach to college admissions prioritize fairness, equity, and individual potential, while considering the diverse backgrounds, experiences, and contributions that students bring to the academic community.\n",
            "\n",
            "Iteration 1 - Bias Critic Feedback:\n",
            "As a fairness and bias expert, I have reviewed the admissions advisor's statement, and I'm pleased to report that it demonstrates a high level of balance and fairness. The advisor has made a concerted effort to present a nuanced and multidimensional discussion on the complexities of college admissions.\n",
            "\n",
            "Here are some strengths that contribute to the statement's fairness:\n",
            "\n",
            "1. **Neutral framing**: The introduction sets a neutral tone, acknowledging the complexity and controversy surrounding college admissions.\n",
            "2. **Balanced presentation**: The advisor dedicates equal space to presenting arguments and counterarguments for each perspective, ensuring that no single viewpoint dominates the discussion.\n",
            "3. **Inclusive language**: The statement uses inclusive language, avoiding stereotypes and stigmatizing language.\n",
            "4. **Contextual understanding**: The advisor acknowledges the historical and systemic inequalities that have led to disparities in education, demonstrating an understanding of the broader social context.\n",
            "5. **Holistic approach**: The recommended holistic approach emphasizes individual merit, diversity, inclusivity, and equity, providing a comprehensive framework for admissions decisions.\n",
            "\n",
            "However, to further improve the statement, I suggest a few minor adjustments:\n",
            "\n",
            "1. **Avoid ambiguous terms**: While \"underprivileged backgrounds\" is a well-intentioned phrase, it could be clarified to specify the particular groups or characteristics being referred to (e.g., racial minorities, low-income families, etc.).\n",
            "2. **Provide more context for counterarguments**: Some counterarguments, such as the potential for stereotyping in affirmative action policies, could be elaborated upon to provide more context and clarify the concerns being raised.\n",
            "3. **Emphasize the importance of individual merit and potential**: While the holistic approach is commendable, it would be beneficial to reiterate the importance of individual merit and potential in the admissions process to maintain academic integrity.\n",
            "\n",
            "Overall, the statement demonstrates a commendable commitment to fairness, equity, and individual potential. With these minor adjustments, it can become an even more effective and balanced discussion on the complexities of college admissions.\n",
            "\n",
            "Iteration 2 - Agent Response:\n",
            "The question of who should get preference in college admissions is a complex and multifaceted issue, surrounded by controversy and debate. As an admissions advisor, I'll strive to present a balanced view, acknowledging the various perspectives and concerns.\n",
            "\n",
            "On one hand, some argue that college admissions should prioritize academic merit, solely focusing on grades, test scores, and other quantifiable measures of academic achievement. This perspective posits that the most qualified students, regardless of their background or socioeconomic status, should be granted admission. Proponents of this view argue that it ensures academic excellence and maintains the integrity of the institution.\n",
            "\n",
            "On the other hand, many advocate for affirmative action policies that consider the historical and systemic inequalities that have led to disparities in education. This perspective emphasizes the need to provide opportunities to underrepresented groups, including racial minorities, low-income families, and individuals with disabilities. By doing so, institutions can foster diversity, inclusivity, and equity, ultimately enriching the educational experience for all students.\n",
            "\n",
            "However, some critics argue that affirmative action policies can lead to stereotyping or reverse discrimination, where certain groups are given an unfair advantage. Others express concerns that such policies might compromise academic standards, compromising the quality of education.\n",
            "\n",
            "In light of these complexities, I recommend a holistic approach to college admissions. This approach prioritizes individual merit and potential, acknowledging the unique strengths, achievements, and challenges of each applicant. It also considers the broader social context, recognizing the historical barriers and inequalities that have hindered access to quality education for certain groups.\n",
            "\n",
            "In this framework, institutions should strive to create a diverse and vibrant community of students, comprising individuals from a wide range of experiences, perspectives, and backgrounds. By doing so, we can foster an environment that values inclusive excellence, celebrates individual potential, and supports the academic success of all students.\n",
            "\n",
            "Ultimately, the goal of college admissions should be to create a cohort of students who are not only academically prepared but also socially aware, culturally sensitive, and committed to making a positive impact in their communities. By adopting a holistic and inclusive approach, institutions can cultivate a rich tapestry of talents, ideas, and perspectives, ultimately enriching the educational experience for all.\n",
            "\n",
            "Iteration 2 - Bias Critic Feedback:\n",
            "After reviewing the admissions advisor's statement, I am pleased to report that I did not detect any significant regional or other bias. The advisor presents a well-balanced and nuanced discussion on the complex issue of admissions, acknowledging diverse perspectives and concerns.\n",
            "\n",
            "The statement effectively:\n",
            "\n",
            "1. Presents multiple viewpoints, including academic merit, affirmative action, and concerns about stereotyping and reverse discrimination.\n",
            "2. Acknowledges the historical and systemic inequalities that have led to disparities in education.\n",
            "3. Recommends a holistic approach to college admissions, prioritizing individual merit and potential, while considering the broader social context.\n",
            "4. Emphasizes the value of diversity, inclusivity, and equity in creating a rich educational experience.\n",
            "5. Sets a clear goal for the admissions process, focusing on academic preparedness, social awareness, cultural sensitivity, and commitment to making a positive impact.\n",
            "\n",
            "The advisor's language is neutral, and the tone is conciliatory, encouraging, and inclusive. The statement demonstrates a thoughtful and empathetic approach to the complexities of college admissions.\n",
            "\n",
            "To further improve the statement, I suggest considering the following:\n",
            "\n",
            "1. Providing concrete examples or data to support the different perspectives, making the discussion more tangible and evidence-based.\n",
            "3. Incorporating more diverse voices or quotes from various stakeholders, such as students, faculty members, or community leaders, to add authenticity and depth to the discussion.\n",
            "4. Offering more specific guidance or strategies for implementing the holistic approach to college admissions, to provide clearer actionable steps for institutions to follow.\n",
            "\n",
            "Overall, the admissions advisor's statement is well-crafted, balanced, and free from significant bias.\n"
          ]
        }
      ]
    },
    {
      "cell_type": "markdown",
      "source": [
        "**Understanding the Output**\n",
        "\n",
        "- Each iteration shows the **Agent Response** — the advisor’s current answer to the admissions question.\n",
        "\n",
        "- The **Bias Critic Feedback** follows, pointing out any biases or confirming fairness.\n",
        "\n",
        "- If the critic finds bias, the next iteration asks the advisor to revise the response based on the feedback.\n",
        "\n",
        "- The loop stops early if no bias is detected, ensuring the final answer is fair and balanced.\n",
        "\n",
        "This interactive approach demonstrates how AI agents can collaborate to improve answer quality and fairness through feedback.\n"
      ],
      "metadata": {
        "id": "E2l6RTiKq4kE"
      }
    },
    {
      "cell_type": "code",
      "source": [],
      "metadata": {
        "id": "g0faX_JynZd2"
      },
      "execution_count": null,
      "outputs": []
    }
  ]
}